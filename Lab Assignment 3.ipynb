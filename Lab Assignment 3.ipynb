{
 "cells": [
  {
   "cell_type": "code",
   "execution_count": 1,
   "metadata": {},
   "outputs": [
    {
     "name": "stdout",
     "output_type": "stream",
     "text": [
      "Integer\n",
      "1234\n",
      "=====================\n",
      "String\n",
      "Hello\n",
      "=====================\n",
      "Float\n",
      "4.0\n"
     ]
    }
   ],
   "source": [
    "#Question 1\n",
    "\n",
    "class DataType:\n",
    "    def __init__(self,name,value):\n",
    "        self.name = name\n",
    "        self.value = value\n",
    "\n",
    "data_type1 = DataType('Integer', 1234)\n",
    "print(data_type1.name)\n",
    "print(data_type1.value)\n",
    "print('=====================')\n",
    "data_type2 = DataType('String', 'Hello')\n",
    "print(data_type2.name)\n",
    "print(data_type2.value)\n",
    "print('=====================')\n",
    "data_type3 = DataType('Float', 4.0)\n",
    "print(data_type3.name)\n",
    "print(data_type3.value)"
   ]
  },
  {
   "cell_type": "code",
   "execution_count": 2,
   "metadata": {},
   "outputs": [
    {
     "name": "stdout",
     "output_type": "stream",
     "text": [
      "Rose\n",
      "Name of this flower: Rose\n",
      "Color of this flower: Red\n",
      "Number of petal: 6\n",
      "====================\n",
      "Name of this flower: Orchid\n",
      "Color of this flower: Purple\n",
      "Number of petal: 4\n",
      "<__main__.Flower object at 0x00000150420067C8>\n",
      "<__main__.Flower object at 0x0000015042006948>\n",
      "they are different\n"
     ]
    }
   ],
   "source": [
    "# Question 2\n",
    "class Flower:\n",
    "    pass\n",
    "    \n",
    "flower1 = Flower()\n",
    "flower1.name= \"Rose\"\n",
    "print(flower1.name)\n",
    "flower1.color= \"Red\"\n",
    "flower1.num_of_petal= 6\n",
    "print(\"Name of this flower:\", flower1.name)\n",
    "print(\"Color of this flower:\",flower1.color)\n",
    "print(\"Number of petal:\", flower1.num_of_petal)\n",
    "print('====================')\n",
    "flower2 = Flower()\n",
    "flower2.name=\"Orchid\"\n",
    "flower2.color=\"Purple\"\n",
    "flower2.num_of_petal=4\n",
    "print(\"Name of this flower:\",flower2.name)\n",
    "print(\"Color of this flower:\",flower2.color)\n",
    "print (\"Number of petal:\",flower2. num_of_petal)\n",
    "\n",
    "print(flower1)\n",
    "print(flower2)\n",
    "\n",
    "print(\"they are different\")"
   ]
  },
  {
   "cell_type": "code",
   "execution_count": 3,
   "metadata": {},
   "outputs": [
    {
     "name": "stdout",
     "output_type": "stream",
     "text": [
      "Part 1:\n",
      "Name of President:  Aladeen\n",
      "Designation: President Prime Minister Admiral General\n",
      "Number of wife: 100\n",
      "Is he/she a dictator: True\n",
      "Part 2:\n",
      "Name of President:  Donald Trump\n",
      "Designation: President\n",
      "Number of wife: 1\n",
      "Is he/she a dictator: False\n",
      "previous information lost\n"
     ]
    }
   ],
   "source": [
    "# Question 3\n",
    "class Wadiya():\n",
    "    def __init__(self):\n",
    "        self.name = 'Aladeen'\n",
    "        self.designation = 'President Prime Minister Admiral General'\n",
    "        self.num_of_wife = 100\n",
    "        self.dictator = True\n",
    "wadiya = Wadiya()\n",
    "\n",
    "print(\"Part 1:\")\n",
    "print(\"Name of President: \",wadiya.name)\n",
    "print(\"Designation:\" ,wadiya.designation)\n",
    "print(\"Number of wife:\",wadiya.num_of_wife)\n",
    "print(\"Is he/she a dictator:\", wadiya.dictator)\n",
    "\n",
    "\n",
    "wadiya.name = \"Donald Trump\"\n",
    "wadiya.designation = \"President\"\n",
    "wadiya.num_of_wife = 1\n",
    "wadiya.dictator = False\n",
    "\n",
    "print(\"Part 2:\")\n",
    "print(\"Name of President: \",wadiya.name)\n",
    "print(\"Designation:\" ,wadiya.designation)\n",
    "print(\"Number of wife:\",wadiya.num_of_wife)\n",
    "print(\"Is he/she a dictator:\", wadiya.dictator)\n",
    "\n",
    "\n",
    "print(\"previous information lost\")"
   ]
  },
  {
   "cell_type": "code",
   "execution_count": 1,
   "metadata": {},
   "outputs": [
    {
     "name": "stdout",
     "output_type": "stream",
     "text": [
      "Heath Ledger\n",
      "Mind Game\n",
      "False\n",
      "=====================\n",
      "Joaquin Phoenix\n",
      "Laughing out Loud\n",
      "True\n",
      "=====================\n",
      "different\n",
      "same\n",
      "\n",
      "\n",
      "In first If/else The objects values are not same. The Object name,power,is_he_psycho values are not same. that's why The if/else block prints different\n",
      "\n",
      "\n",
      "The second if/else block prints same because we changed the j2 object name to Heath Ledger,both j1 and j2 objects name are same that's why second if/else block prints same \n"
     ]
    }
   ],
   "source": [
    "# Question 4\n",
    "\n",
    "class Joker:\n",
    "    def __init__(self,name,power,is_he_psycho):\n",
    "        self.name = name\n",
    "        self.power = power\n",
    "        self.is_he_psycho = is_he_psycho\n",
    "\n",
    "j1 = Joker('Heath Ledger', 'Mind Game', False)\n",
    "print(j1.name)\n",
    "print(j1.power)\n",
    "print(j1.is_he_psycho)\n",
    "print('=====================')\n",
    "j2 = Joker('Joaquin Phoenix', 'Laughing out Loud', True)\n",
    "print(j2.name)\n",
    "print(j2.power)\n",
    "print(j2.is_he_psycho)\n",
    "print('=====================')\n",
    "if j1 == j2:\n",
    "    print('same')\n",
    "else:\n",
    "    print('different')\n",
    "j2.name = 'Heath Ledger'\n",
    "if j1.name == j2.name:\n",
    "    print('same')\n",
    "else:\n",
    "    print('different')\n",
    "print(\"\\n\")\n",
    "print(\"In first If/else The objects values are not same. The Object name,power,is_he_psycho values are not same. that's why The if/else block prints different\")\n",
    "print(\"\\n\")\n",
    "print(\"The second if/else block prints same because we changed the j2 object name to Heath Ledger,both j1 and j2 objects name are same that's why second if/else block prints same \")"
   ]
  },
  {
   "cell_type": "code",
   "execution_count": 3,
   "metadata": {},
   "outputs": [
    {
     "name": "stdout",
     "output_type": "stream",
     "text": [
      "=======Team 1=======\n",
      "Pokemon 1: pikachu 90\n",
      "Pokemon 2: charmander 60\n",
      "Combined Power: 1500\n",
      "=======Team 2=======\n",
      "Pokemon 1: bulbasaur 80\n",
      "Pokemon 2: squirtle 70\n",
      "Combined Power: 1350\n"
     ]
    }
   ],
   "source": [
    "# Question 5\n",
    "\n",
    "class Pokemon:\n",
    "    def __init__(self,pokemon1_name,pokemom2_name,pokemon1_power,pokemon2_power,damage_rate):\n",
    "        self.pokemon1_name =pokemon1_name\n",
    "        self.pokemon2_name = pokemom2_name\n",
    "        self.pokemon1_power = pokemon1_power\n",
    "        self.pokemon2_power =pokemon2_power\n",
    "        self.damage_rate =damage_rate\n",
    "\n",
    "team_pika = Pokemon('pikachu', 'charmander', 90, 60, 10)\n",
    "print('=======Team 1=======')\n",
    "print('Pokemon 1:',team_pika.pokemon1_name, team_pika.pokemon1_power)\n",
    "print('Pokemon 2:',team_pika.pokemon2_name, team_pika.pokemon2_power)\n",
    "pika_combined_power = (team_pika.pokemon1_power + team_pika.pokemon2_power) * team_pika.damage_rate\n",
    "print('Combined Power:', pika_combined_power)\n",
    "\n",
    "team_bulb = Pokemon(\"bulbasaur\",\"squirtle\",80,70,9)\n",
    "print('=======Team 2=======')\n",
    "print('Pokemon 1:',team_bulb.pokemon1_name, team_bulb.pokemon1_power)\n",
    "print('Pokemon 2:',team_bulb.pokemon2_name, team_bulb.pokemon2_power)\n",
    "pika_combined_power = (team_bulb.pokemon1_power + team_bulb.pokemon2_power) * team_bulb.damage_rate\n",
    "print('Combined Power:', pika_combined_power)"
   ]
  },
  {
   "cell_type": "code",
   "execution_count": 2,
   "metadata": {},
   "outputs": [
    {
     "name": "stdout",
     "output_type": "stream",
     "text": [
      "Name of the Player: Ronaldo\n",
      "Jersey Number of player: 9\n",
      "Position of player: Striker\n",
      "== == == == == == == == == == == == == =\n",
      "Name of the player: Neuer\n",
      "Jersey Number of player: 1\n",
      "Position of player: Goal Keeper\n"
     ]
    }
   ],
   "source": [
    "# Question 6\n",
    "\n",
    "class Player:\n",
    "    def __init__(self):\n",
    "        self.name = \"Player Name\"\n",
    "        self.jersy_number = 0\n",
    "        self.position = \"\"\n",
    "        \n",
    "\n",
    "player1 = Player()\n",
    "player1.name = \"Ronaldo\"\n",
    "player1.jersy_number = 9\n",
    "player1.position = \"Striker\"\n",
    "print(\"Name of the Player:\", player1.name)\n",
    "print(\"Jersey Number of player:\", player1.jersy_number)\n",
    "print(\"Position of player:\", player1.position)\n",
    "print(\"== == == == == == == == == == == == == =\")\n",
    "player2 = Player()\n",
    "player2.name = \"Neuer\"\n",
    "player2.jersy_number = 1\n",
    "player2.position = \"Goal Keeper\"\n",
    "print(\"Name of the player:\", player2.name)\n",
    "print(\"Jersey Number of player:\", player2.jersy_number)\n",
    "print(\"Position of player:\", player2.position)"
   ]
  },
  {
   "cell_type": "code",
   "execution_count": 4,
   "metadata": {},
   "outputs": [
    {
     "name": "stdout",
     "output_type": "stream",
     "text": [
      "Name: Bangladesh\n",
      "Continent: Asia\n",
      "Capital: Dhaka\n",
      "Fifa Ranking: 187\n",
      "===================\n",
      "Name: Belgium\n",
      "Continent: Europe\n",
      "Capital: Brussels\n",
      "Fifa Ranking: 1\n"
     ]
    }
   ],
   "source": [
    "# Question 7\n",
    "class Country:\n",
    "    def __init__(self):\n",
    "        self.name = \"Bangladesh\"\n",
    "        self.continent = \"Asia\"\n",
    "        self.capital = \"Dhaka\"\n",
    "        self.fifa_ranking = 187\n",
    "\n",
    "country = Country()\n",
    "print('Name:',country.name)\n",
    "print('Continent:',country.continent)\n",
    "print('Capital:',country.capital)\n",
    "print('Fifa Ranking:',country.fifa_ranking)\n",
    "print('===================')\n",
    "country.name = \"Belgium\"\n",
    "country.continent = \"Europe\"\n",
    "country.capital = \"Brussels\"\n",
    "country.fifa_ranking = 1\n",
    "print('Name:',country.name)\n",
    "print('Continent:',country.continent)\n",
    "print('Capital:',country.capital)\n",
    "print('Fifa Ranking:',country.fifa_ranking)"
   ]
  },
  {
   "cell_type": "code",
   "execution_count": 5,
   "metadata": {},
   "outputs": [
    {
     "name": "stdout",
     "output_type": "stream",
     "text": [
      "Name: Tanjiro\n",
      "Fighting Style: Water Breathing\n",
      "Knows 10 technique(s) and has killed 10 demon(s)\n",
      "===================\n",
      "Name: Zenitsu\n",
      "Fighting Style: Thunder Breathing\n",
      "Knows 1 technique(s) and has killed 4 demon(s)\n",
      "===================\n",
      "Name: Inosuke\n",
      "Fighting Style: Beast Breathing\n",
      "Knows 5 technique(s) and has killed 7 demon(s)\n",
      "===================\n",
      "Tanjiro, Zenitsu, Inosuke knows total 16 techniques\n",
      "They have killed total 21 demons\n"
     ]
    }
   ],
   "source": [
    "# Question 8\n",
    "\n",
    "class DemonSlayer:\n",
    "    def __init__(self,name,style,number_of_technique,kill):\n",
    "        self.name = name\n",
    "        self.style = style\n",
    "        self.number_of_technique = number_of_technique\n",
    "        self.kill = kill\n",
    "\n",
    "tanjiro = DemonSlayer(\"Tanjiro\", \"Water Breathing\", 10, 10)\n",
    "print('Name:',tanjiro.name)\n",
    "print('Fighting Style:',tanjiro.style)\n",
    "print(f'Knows {tanjiro.number_of_technique} technique(s) and has killed {tanjiro.kill} demon(s)')\n",
    "print('===================')\n",
    "zenitsu = DemonSlayer(\"Zenitsu\", \"Thunder Breathing\", 1, 4)\n",
    "print('Name:',zenitsu.name)\n",
    "print('Fighting Style:',zenitsu.style)\n",
    "print(f'Knows {zenitsu.number_of_technique} technique(s) and has killed {zenitsu.kill} demon(s)')\n",
    "print('===================')\n",
    "inosuke = DemonSlayer(\"Inosuke\", \"Beast Breathing\", 5, 7)\n",
    "print('Name:',inosuke.name)\n",
    "print('Fighting Style:',inosuke.style)\n",
    "print(f'Knows {inosuke.number_of_technique} technique(s) and has killed {inosuke.kill} demon(s)')\n",
    "print('===================')\n",
    "print(f'{tanjiro.name}, {zenitsu.name}, {inosuke.name} knows total {tanjiro.number_of_technique + zenitsu.number_of_technique + inosuke.number_of_technique} techniques')\n",
    "print(f'They have killed total {tanjiro.kill + zenitsu.kill + inosuke.kill} demons')\n"
   ]
  },
  {
   "cell_type": "code",
   "execution_count": null,
   "metadata": {},
   "outputs": [],
   "source": []
  }
 ],
 "metadata": {
  "kernelspec": {
   "display_name": "Python 3",
   "language": "python",
   "name": "python3"
  },
  "language_info": {
   "codemirror_mode": {
    "name": "ipython",
    "version": 3
   },
   "file_extension": ".py",
   "mimetype": "text/x-python",
   "name": "python",
   "nbconvert_exporter": "python",
   "pygments_lexer": "ipython3",
   "version": "3.8.8"
  }
 },
 "nbformat": 4,
 "nbformat_minor": 2
}
